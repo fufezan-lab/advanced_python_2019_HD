{
 "cells": [
  {
   "cell_type": "code",
   "execution_count": null,
   "metadata": {
    "slideshow": {
     "slide_type": "notes"
    }
   },
   "outputs": [],
   "source": [
    "# %load topics.py\n",
    "import pandas as pd\n",
    "import psutil\n",
    "\n",
    "pd.set_option(\"display.max_colwidth\" , 300)\n",
    "\n",
    "df_high_level = pd.DataFrame(\n",
    "    data=[\n",
    "        {'day': 'Monday', 'Topic': 'Check-In, recaps and functions'},\n",
    "        {'day': 'Tuesday', 'Topic': 'Coding philosophy, data flow and some more useful std modules'},\n",
    "        {'day': 'Wednesday', 'Topic': 'Test driven development, python module, sphinx'},\n",
    "        {'day': 'Thursday', 'Topic': 'OOP - Object oriented programming'},\n",
    "        {'day': 'Friday', 'Topic': 'Q&A and code clean up'},\n",
    "        {'day': '', 'Topic': ''},\n",
    "        {'day': 'Monday', 'Topic': ''},\n",
    "        {'day': 'Tuesday', 'Topic': ''},\n",
    "        {'day': 'Wednesday', 'Topic': ''},\n",
    "        {'day': 'Thursday', 'Topic': ''},\n",
    "        {'day': 'Friday', 'Topic': 'Q&A and Tutorium'},\n",
    "\n",
    "\n",
    "    ]\n",
    ")\n",
    "\n",
    "df_details = pd.DataFrame(\n",
    "    data=[\n",
    "        {'day': 1, 'Topic': 'Check-in'},\n",
    "        {'day': 1, 'Topic': 'Procedural stuff'},\n",
    "        {'day': 1, 'Topic': \"python basic in 5'\"},\n",
    "        {'day': 1, 'Topic': 'lists and generators'},\n",
    "        {'day': 1, 'Topic': 'bisect module'},\n",
    "        # ----------------------------\n",
    "        {'day': 2, 'Topic': 'Functions'},\n",
    "        {'day': 2, 'Topic': 'Zen of Python and general coding philosophy'},\n",
    "        {'day': 2, 'Topic': 'csv module'},\n",
    "        {'day': 2, 'Topic': 'Collections module'},\n",
    "        {'day': 2, 'Topic': 'Exercises 1 & 2'},\n",
    "        # ----------------------------\n",
    "        {'day': 3, 'Topic': 'Discussion of Excercises 1 & 2'},\n",
    "        {'day': 3, 'Topic': 'Basic plotting with plotly'},\n",
    "        {'day': 3, 'Topic': 'Exercises 3'},\n",
    "        # -----------------------------\n",
    "        {'day': 4, 'Topic': 'Discussion of Excercises 3'},\n",
    "        {'day': 4, 'Topic': \"String format\"},\n",
    "        {'day': 4, 'Topic': 'dicts'},\n",
    "        {'day': 4, 'Topic': 'itertools'},\n",
    "        # -----------------------------\n",
    "        {'day': 5, 'Topic': \"OOP\"},\n",
    "        # {'day': 3, 'Topic': 'data flow'},\n",
    "        {'day': 6, 'Topic': \"Basic Python package\"},\n",
    "        {'day': 6, 'Topic': \"Test Driven development\"},\n",
    "        {'day': 6, 'Topic': \"Auto documentation with Sphinx\"},\n",
    "        # -----------------------------\n",
    "    ]\n",
    ")\n",
    "\n",
    "\n",
    "def display_topics(day=1, df=None):\n",
    "    if df is None:\n",
    "        df = df_details\n",
    "    return df[df['day'] == day][['day', 'Topic']].head(20)\n"
   ]
  },
  {
   "cell_type": "code",
   "execution_count": null,
   "metadata": {
    "slideshow": {
     "slide_type": "notes"
    }
   },
   "outputs": [],
   "source": []
  },
  {
   "cell_type": "markdown",
   "metadata": {
    "slideshow": {
     "slide_type": "slide"
    }
   },
   "source": [
    "# Days 4\n",
    "## Overview"
   ]
  },
  {
   "cell_type": "code",
   "execution_count": null,
   "metadata": {},
   "outputs": [],
   "source": [
    "display_topics(day=4)"
   ]
  },
  {
   "cell_type": "markdown",
   "metadata": {
    "slideshow": {
     "slide_type": "slide"
    }
   },
   "source": [
    "# Discssion @ Excersises \n",
    "\n"
   ]
  },
  {
   "cell_type": "code",
   "execution_count": null,
   "metadata": {
    "slideshow": {
     "slide_type": "slide"
    }
   },
   "outputs": [],
   "source": [
    "seqs = {}\n",
    "current_id = None\n",
    "current_seq = \"\"\n",
    "with open(\"../data/uniprot-filtered-proteome%3AUP000005640+AND+reviewed%3Ayes+AND+organism%3A%22Hom--.fasta\") as fasta_file:\n",
    "    for line in fasta_file:\n",
    "        if line.startswith(\">\"):\n",
    "            if current_id is not None:\n",
    "                seqs[current_id] = current_seq\n",
    "            current_seq = \"\"\n",
    "            current_id = line.strip()\n",
    "        else:\n",
    "            current_seq += line.strip()\n",
    "    seqs[current_id] = current_seq\n",
    "    "
   ]
  },
  {
   "cell_type": "code",
   "execution_count": null,
   "metadata": {},
   "outputs": [],
   "source": [
    "import csv\n",
    "hydropathy_lookup = {}\n",
    "\n",
    "with open(\"../data/amino_acid_properties.csv\") as aap:\n",
    "    csv_dr = csv.DictReader(aap)\n",
    "    for line_dict in csv_dr:\n",
    "        aa = line_dict[\"1-letter code\"]\n",
    "        hpi = line_dict[\"hydropathy index (Kyte-Doolittle method)\"]\n",
    "        try:\n",
    "            hydropathy_lookup[aa] = float(hpi)\n",
    "        except ValueError:\n",
    "            pass\n",
    "\n",
    "hydropathy_lookup"
   ]
  },
  {
   "cell_type": "code",
   "execution_count": null,
   "metadata": {
    "slideshow": {
     "slide_type": "fragment"
    }
   },
   "outputs": [],
   "source": [
    "# Sneak preview to pandas ! :)\n",
    "aa_df = pd.read_csv(\"../data/amino_acid_properties.csv\")\n",
    "hydropathy_lookup = aa_df.set_index(\"1-letter code\").to_dict()['hydropathy index (Kyte-Doolittle method)']\n",
    "hydropathy_lookup"
   ]
  },
  {
   "cell_type": "code",
   "execution_count": null,
   "metadata": {
    "slideshow": {
     "slide_type": "skip"
    }
   },
   "outputs": [],
   "source": [
    "from collections import deque\n",
    "import plotly.graph_objects as go\n",
    "\n",
    "ids_of_interest = [\n",
    "    \"TMEM63B\",\n",
    "    \"TM9SF\",\n",
    "    \"MS4A1\",\n",
    "]\n",
    "for identifier in seqs.keys():\n",
    "    for ioi in ids_of_interest:\n",
    "        if ioi in identifier:\n",
    "            print(identifier)"
   ]
  },
  {
   "cell_type": "code",
   "execution_count": null,
   "metadata": {},
   "outputs": [],
   "source": [
    "test = deque([], maxlen=5) "
   ]
  },
  {
   "cell_type": "code",
   "execution_count": null,
   "metadata": {},
   "outputs": [],
   "source": [
    "test.append(\">>>\")\n",
    "len(test)"
   ]
  },
  {
   "cell_type": "code",
   "execution_count": null,
   "metadata": {},
   "outputs": [],
   "source": [
    "test += [1,2,3,4,5,6,7,]\n",
    "len(test)"
   ]
  },
  {
   "cell_type": "code",
   "execution_count": null,
   "metadata": {
    "scrolled": false,
    "slideshow": {
     "slide_type": "slide"
    }
   },
   "outputs": [],
   "source": [
    "\n",
    "identifier = \">sp|Q5J8X5|M4A13_HUMAN Membrane-spanning 4-domains subfamily A member 13 OS=Homo sapiens OX=9606 GN=MS4A13 PE=2 SV=2\"\n",
    "\n",
    "# identifier = \">sp|Q92544|TM9S4_HUMAN Transmembrane 9 superfamily member 4 OS=Homo sapiens OX=9606 GN=TM9SF4 PE=1 SV=2\"\n",
    "\n",
    "data = []\n",
    "for window_size in [5, 10, 20, 50]:\n",
    "    averages_hydropathy_values = []\n",
    "    av_window = deque([], maxlen=window_size)            \n",
    "    positions = []\n",
    "    for aa in seqs[identifier]:\n",
    "        hydropathy_value = hydropathy_lookup[aa]\n",
    "        \n",
    "        av_window.append(hydropathy_value)\n",
    "        averages_hydropathy_values.append( sum(av_window) / len(av_window))\n",
    "\n",
    "\n",
    "    data.append(\n",
    "        go.Scatter(\n",
    "            y=averages_hydropathy_values,\n",
    "            name=window_size\n",
    "        )\n",
    "    )\n",
    "\n",
    "fig = go.Figure(\n",
    "    data=data,\n",
    "    layout={\n",
    "        \"title\": {\n",
    "            \"text\": identifier,\n",
    "            \"font_size\": 20\n",
    "        }\n",
    "    }\n",
    ")\n",
    "fig.update_layout(template='plotly_dark')\n",
    "fig.show()"
   ]
  },
  {
   "cell_type": "markdown",
   "metadata": {},
   "source": [
    "## Note: the shift in the maximum between 5 and e.g. 20.\n",
    "Q why is that ?\n",
    "Q How to fix it ?"
   ]
  },
  {
   "cell_type": "code",
   "execution_count": null,
   "metadata": {
    "scrolled": false,
    "slideshow": {
     "slide_type": "slide"
    }
   },
   "outputs": [],
   "source": [
    "\n",
    "identifier = \">sp|Q5J8X5|M4A13_HUMAN Membrane-spanning 4-domains subfamily A member 13 OS=Homo sapiens OX=9606 GN=MS4A13 PE=2 SV=2\"\n",
    "\n",
    "# identifier = \">sp|Q92544|TM9S4_HUMAN Transmembrane 9 superfamily member 4 OS=Homo sapiens OX=9606 GN=TM9SF4 PE=1 SV=2\"\n",
    "\n",
    "data = []\n",
    "for window_size in [5, 10, 20, 50]:\n",
    "    averages_hydropathy_values = []\n",
    "    av_window = deque([], maxlen=window_size)            \n",
    "    positions = []\n",
    "    for pos, aa in enumerate(seqs[identifier]):\n",
    "        positions.append( pos - int(len(av_window) / 2))\n",
    "        hydropathy_value = hydropathy_lookup[aa]\n",
    "        \n",
    "        av_window.append(hydropathy_value)\n",
    "        averages_hydropathy_values.append( sum(av_window) / len(av_window))\n",
    "\n",
    "\n",
    "    data.append(\n",
    "        go.Scatter(\n",
    "            x=positions,\n",
    "            y=averages_hydropathy_values,\n",
    "            name=window_size\n",
    "        )\n",
    "    )\n",
    "\n",
    "fig = go.Figure(\n",
    "    data=data,\n",
    "    layout={\n",
    "        \"title\": {\n",
    "            \"text\": identifier,\n",
    "            \"font_size\": 20\n",
    "        }\n",
    "    }\n",
    ")\n",
    "fig.update_layout(template='plotly_dark')\n",
    "fig.show()"
   ]
  },
  {
   "cell_type": "markdown",
   "metadata": {
    "slideshow": {
     "slide_type": "slide"
    }
   },
   "source": [
    "# String format\n",
    "\n",
    "a powerful techniques to produce well formatted strings. Reference can be found [here](https://docs.python.org/3.4/library/string.html#format-specification-mini-language)"
   ]
  },
  {
   "cell_type": "code",
   "execution_count": null,
   "metadata": {},
   "outputs": [],
   "source": [
    "\"{0}\".format(42.0030937)    # cast float to string"
   ]
  },
  {
   "cell_type": "code",
   "execution_count": 4,
   "metadata": {},
   "outputs": [
    {
     "data": {
      "text/plain": [
       "'42'"
      ]
     },
     "execution_count": 4,
     "metadata": {},
     "output_type": "execute_result"
    }
   ],
   "source": [
    "\"{0:.0f}\".format(42.0030937)    # cast float to string and round it. Seven digits in total, 4 decimals"
   ]
  },
  {
   "cell_type": "code",
   "execution_count": null,
   "metadata": {},
   "outputs": [],
   "source": [
    "# Align text in longer context\n",
    "print(\"Centered      {0:^17.4f}\".format(42.0030937))    # center text within longer area\n",
    "print(\"Aligned left  {0:<17.4f}\".format(42.0030937))    # align left\n",
    "print(\"Aligned right {0:>17.4f}\".format(42.0030937))    # align right"
   ]
  },
  {
   "cell_type": "code",
   "execution_count": null,
   "metadata": {},
   "outputs": [],
   "source": [
    "# Fill empty with placeholder, here _\n",
    "print(\"Centered      {0:_^17.4f}\".format(42.0030937))    # center text within longer area\n",
    "print(\"Aligned left  {0:_<17.4f}\".format(42.0030937))    # align left\n",
    "print(\"Aligned right {0:_>17.4f}\".format(42.0030937))    # align right"
   ]
  },
  {
   "cell_type": "code",
   "execution_count": null,
   "metadata": {},
   "outputs": [],
   "source": [
    "\"{0:7.4f} and not {1:7.4f}\".format(42.0030937, 2)    # use an (unpacked) list of elements"
   ]
  },
  {
   "cell_type": "code",
   "execution_count": null,
   "metadata": {},
   "outputs": [],
   "source": [
    "\"{first:7.4f} and not {second:7.4f}\".format(first=42.0030937, second=2)    # use a (unpacked) dict"
   ]
  },
  {
   "cell_type": "code",
   "execution_count": null,
   "metadata": {},
   "outputs": [],
   "source": [
    "string_elements = [42.0030937, 2]\n",
    "\"{0:7.4f} and not {1:7.4f}\".format(*string_elements) # use an (unpacked) list of elements"
   ]
  },
  {
   "cell_type": "code",
   "execution_count": null,
   "metadata": {},
   "outputs": [],
   "source": [
    "string_elements = {'first': 42.00309377849553, 'second': 2}\n",
    "\"{first:7.4f} and not {second:7.4f}\".format(**string_elements)  # use a (unpacked) dict"
   ]
  },
  {
   "cell_type": "code",
   "execution_count": null,
   "metadata": {},
   "outputs": [],
   "source": [
    "counters = {\"warnings\": 12, \"critical_errors\": 0, \"passed evaluations\": 1002}\n",
    "\n",
    "\"During run time we found {warnings:0>4d} warnings and {critical_errors:0>4d} critial errors\".format(**counters)\n",
    "print(f\"During run time we found {counters['warnings']:0>4d}\")\n",
    "# Note counters dict can carry much more than we actually display in our formatted string"
   ]
  },
  {
   "cell_type": "code",
   "execution_count": null,
   "metadata": {},
   "outputs": [],
   "source": []
  },
  {
   "cell_type": "code",
   "execution_count": null,
   "metadata": {},
   "outputs": [],
   "source": [
    "# use different format types ... and yes there are many .. here with an exponent\n",
    "\"During run time {passed evaluations:1.3E} evaluations passed without any issue\".format(**counters)"
   ]
  },
  {
   "cell_type": "code",
   "execution_count": null,
   "metadata": {},
   "outputs": [],
   "source": [
    "# Python 3.6 introduced another way to use format strings, ie addin an f in front of the string\n",
    "# allows local variables to be inserted directly\n",
    "\n",
    "warnings = 12\n",
    "critical_errors = 0\n",
    "\n",
    "f\"During run time we found {warnings:0>4d} warnings and {critical_errors:0>4d} critial errors\""
   ]
  },
  {
   "cell_type": "markdown",
   "metadata": {
    "slideshow": {
     "slide_type": "slide"
    }
   },
   "source": [
    "# Dicts\n",
    "\n",
    "Dictionaries, short dicts are lookup data structures in the form of key, value pairs. Keys have to be hashable (ie no dicts, sets, lists, yet e.g. tuples, floats, ints and strings work)and values can be of any type.\n",
    "\n",
    "**NOTE** dicts used to be unordered so best don't assume to be ordered or used ordered dict from colections directly (more to collections later)\n",
    "\n",
    "Lookup a value using its key in a dict is fast!\n",
    "\n",
    "one can iterate over a dicts\n",
    "* keys via d.keys()\n",
    "* values via d.values()\n",
    "* or pairs of key, values via d.items()"
   ]
  },
  {
   "cell_type": "code",
   "execution_count": null,
   "metadata": {},
   "outputs": [],
   "source": [
    "a = {\"King\": \"Arthur\", \"Uni\": \"Hd\"}\n"
   ]
  },
  {
   "cell_type": "code",
   "execution_count": null,
   "metadata": {},
   "outputs": [],
   "source": [
    "for key, value in a.items():\n",
    "    print('Key {0} points to value {1}'.format(key, value))"
   ]
  },
  {
   "cell_type": "markdown",
   "metadata": {
    "slideshow": {
     "slide_type": "slide"
    }
   },
   "source": [
    "Given d is an dictionary with unknown content. How to code\n",
    "* get value for key \"A\", and if not available return \"unknown amino acid\"\n",
    "* set value for key \"A\" to \"Alanine\" if not already in d\n",
    "\n",
    "How to merge two dicts ?"
   ]
  },
  {
   "cell_type": "code",
   "execution_count": null,
   "metadata": {},
   "outputs": [],
   "source": [
    "b = {\"Language\": \"English\", \"King\": \"Nobody!\"}\n",
    "a.update(b)\n",
    "a"
   ]
  },
  {
   "cell_type": "markdown",
   "metadata": {},
   "source": [
    "### Note: Prior to Python 3.6 dicts are not ordered! \n",
    "Don't *ASSUME* ie, either limit your module to Python3.6+ or use orderedDict to be on the safe side"
   ]
  },
  {
   "cell_type": "code",
   "execution_count": null,
   "metadata": {},
   "outputs": [],
   "source": [
    "from collections import OrderedDict as odict\n",
    "a = odict({\"King\": \"Arthur\", \"Uni\": \"Hd\"})\n",
    "b = odict({\"Language\": \"English\", \"King\": \"Nobody!\"})\n",
    "print(a, b)"
   ]
  },
  {
   "cell_type": "code",
   "execution_count": null,
   "metadata": {
    "scrolled": true
   },
   "outputs": [],
   "source": [
    "a.update(b)\n",
    "a"
   ]
  },
  {
   "cell_type": "code",
   "execution_count": null,
   "metadata": {},
   "outputs": [],
   "source": [
    "a.pop.__doc__\n",
    "# alt \"? a.pop\""
   ]
  },
  {
   "cell_type": "code",
   "execution_count": null,
   "metadata": {},
   "outputs": [],
   "source": [
    "# q: how to rename a key within a dict\n",
    "a['Old King'] = a.pop('King')\n",
    "a\n",
    "# Note: changes position :)"
   ]
  },
  {
   "cell_type": "code",
   "execution_count": null,
   "metadata": {
    "scrolled": true
   },
   "outputs": [],
   "source": [
    "print(dir(a.pop))"
   ]
  },
  {
   "cell_type": "code",
   "execution_count": null,
   "metadata": {},
   "outputs": [],
   "source": []
  },
  {
   "cell_type": "markdown",
   "metadata": {
    "slideshow": {
     "slide_type": "slide"
    }
   },
   "source": [
    "# Iteration helpers\n",
    "\n",
    "How would you code a loop that generates out of an iterable \\['A', 'B', 'C' \\]\n",
    "the following \n",
    "* AB, AC, BC\n",
    "* AA, AB, AC, BA, BB, BC, CA, CB, CC\n",
    "\n"
   ]
  },
  {
   "cell_type": "code",
   "execution_count": null,
   "metadata": {},
   "outputs": [],
   "source": [
    "a = ['A', 'B', 'C']\n",
    "already_seen = set()\n",
    "for e1 in a:\n",
    "    for e2 in a:\n",
    "        if e1 == e2:\n",
    "            continue\n",
    "        \n",
    "        sorted_tuple = tuple(sorted([e1, e2]))\n",
    "        \n",
    "        if sorted_tuple in already_seen:\n",
    "            continue\n",
    "        \n",
    "        print(e1, e2)\n",
    "        already_seen.add(sorted_tuple)"
   ]
  },
  {
   "cell_type": "markdown",
   "metadata": {
    "slideshow": {
     "slide_type": "subslide"
    }
   },
   "source": [
    "# [itertools](https://docs.python.org/3.7/library/itertools.html)\n",
    "\n",
    "Python iterator helpers for efficient and **readable** looping."
   ]
  },
  {
   "cell_type": "code",
   "execution_count": null,
   "metadata": {
    "scrolled": false
   },
   "outputs": [],
   "source": [
    "from itertools import product\n",
    "\n",
    "list(product(a, repeat=2))"
   ]
  },
  {
   "cell_type": "code",
   "execution_count": null,
   "metadata": {},
   "outputs": [],
   "source": [
    "from itertools import combinations\n",
    "\n",
    "list(combinations(a, 2))"
   ]
  },
  {
   "cell_type": "markdown",
   "metadata": {},
   "source": [
    "#### Excersise No. 4\n",
    "\n",
    "Taken excersise 2, visualize each question for all 20k+ fasta entries in one plotly plot. Identify the proteins with, e.g. the smallest or largest mass by hovering over the points. The plots should give you an idea of the distribution for a given observation / question.\n"
   ]
  },
  {
   "cell_type": "code",
   "execution_count": null,
   "metadata": {},
   "outputs": [],
   "source": []
  }
 ],
 "metadata": {
  "celltoolbar": "Slideshow",
  "kernelspec": {
   "display_name": "Python 3",
   "language": "python",
   "name": "python3"
  },
  "language_info": {
   "codemirror_mode": {
    "name": "ipython",
    "version": 3
   },
   "file_extension": ".py",
   "mimetype": "text/x-python",
   "name": "python",
   "nbconvert_exporter": "python",
   "pygments_lexer": "ipython3",
   "version": "3.7.3"
  }
 },
 "nbformat": 4,
 "nbformat_minor": 2
}
